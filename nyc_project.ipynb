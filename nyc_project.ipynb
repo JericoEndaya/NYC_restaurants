{
 "cells": [
  {
   "cell_type": "markdown",
   "id": "11d3e3a6-64f2-484b-b5b6-db0e16de7b4f",
   "metadata": {},
   "source": [
    "#Library Import"
   ]
  },
  {
   "cell_type": "code",
   "execution_count": 1,
   "id": "05ea9cef-c35f-4c20-9c82-40e4438117ba",
   "metadata": {},
   "outputs": [],
   "source": [
    "import os"
   ]
  },
  {
   "cell_type": "code",
   "execution_count": 2,
   "id": "022db300-713b-4788-ba59-5adbce6d0452",
   "metadata": {},
   "outputs": [],
   "source": [
    "os.chdir('C:/Users/Jeric/OneDrive/Desktop/Personal Projects/NYC_restaurants')"
   ]
  },
  {
   "cell_type": "code",
   "execution_count": 3,
   "id": "f2eb7c61-e970-4db8-a58c-6ba06202c4e0",
   "metadata": {},
   "outputs": [],
   "source": [
    "import pandas as pd\n",
    "import numpy as np"
   ]
  },
  {
   "cell_type": "code",
   "execution_count": 4,
   "id": "cd2f2d5d-e10e-474b-8704-02195911cf47",
   "metadata": {},
   "outputs": [],
   "source": [
    "nyc = pd.read_csv(\"C:/Users/Jeric/OneDrive/Desktop/Personal Projects/NYC_restaurants/food_order.csv\")"
   ]
  },
  {
   "cell_type": "markdown",
   "id": "25d353d6-4e7e-46c0-9e0b-a068ab7a3d06",
   "metadata": {},
   "source": [
    "#Preliminary look at data"
   ]
  },
  {
   "cell_type": "code",
   "execution_count": 5,
   "id": "82dcff82-a6f3-4cda-8f4c-354265af6161",
   "metadata": {},
   "outputs": [
    {
     "data": {
      "text/html": [
       "<div>\n",
       "<style scoped>\n",
       "    .dataframe tbody tr th:only-of-type {\n",
       "        vertical-align: middle;\n",
       "    }\n",
       "\n",
       "    .dataframe tbody tr th {\n",
       "        vertical-align: top;\n",
       "    }\n",
       "\n",
       "    .dataframe thead th {\n",
       "        text-align: right;\n",
       "    }\n",
       "</style>\n",
       "<table border=\"1\" class=\"dataframe\">\n",
       "  <thead>\n",
       "    <tr style=\"text-align: right;\">\n",
       "      <th></th>\n",
       "      <th>order_id</th>\n",
       "      <th>customer_id</th>\n",
       "      <th>restaurant_name</th>\n",
       "      <th>cuisine_type</th>\n",
       "      <th>cost_of_the_order</th>\n",
       "      <th>day_of_the_week</th>\n",
       "      <th>rating</th>\n",
       "      <th>food_preparation_time</th>\n",
       "      <th>delivery_time</th>\n",
       "    </tr>\n",
       "  </thead>\n",
       "  <tbody>\n",
       "    <tr>\n",
       "      <th>0</th>\n",
       "      <td>1477147</td>\n",
       "      <td>337525</td>\n",
       "      <td>Hangawi</td>\n",
       "      <td>Korean</td>\n",
       "      <td>30.75</td>\n",
       "      <td>Weekend</td>\n",
       "      <td>Not given</td>\n",
       "      <td>25</td>\n",
       "      <td>20</td>\n",
       "    </tr>\n",
       "    <tr>\n",
       "      <th>1</th>\n",
       "      <td>1477685</td>\n",
       "      <td>358141</td>\n",
       "      <td>Blue Ribbon Sushi Izakaya</td>\n",
       "      <td>Japanese</td>\n",
       "      <td>12.08</td>\n",
       "      <td>Weekend</td>\n",
       "      <td>Not given</td>\n",
       "      <td>25</td>\n",
       "      <td>23</td>\n",
       "    </tr>\n",
       "    <tr>\n",
       "      <th>2</th>\n",
       "      <td>1477070</td>\n",
       "      <td>66393</td>\n",
       "      <td>Cafe Habana</td>\n",
       "      <td>Mexican</td>\n",
       "      <td>12.23</td>\n",
       "      <td>Weekday</td>\n",
       "      <td>5</td>\n",
       "      <td>23</td>\n",
       "      <td>28</td>\n",
       "    </tr>\n",
       "    <tr>\n",
       "      <th>3</th>\n",
       "      <td>1477334</td>\n",
       "      <td>106968</td>\n",
       "      <td>Blue Ribbon Fried Chicken</td>\n",
       "      <td>American</td>\n",
       "      <td>29.20</td>\n",
       "      <td>Weekend</td>\n",
       "      <td>3</td>\n",
       "      <td>25</td>\n",
       "      <td>15</td>\n",
       "    </tr>\n",
       "    <tr>\n",
       "      <th>4</th>\n",
       "      <td>1478249</td>\n",
       "      <td>76942</td>\n",
       "      <td>Dirty Bird to Go</td>\n",
       "      <td>American</td>\n",
       "      <td>11.59</td>\n",
       "      <td>Weekday</td>\n",
       "      <td>4</td>\n",
       "      <td>25</td>\n",
       "      <td>24</td>\n",
       "    </tr>\n",
       "  </tbody>\n",
       "</table>\n",
       "</div>"
      ],
      "text/plain": [
       "   order_id  customer_id            restaurant_name cuisine_type  \\\n",
       "0   1477147       337525                    Hangawi       Korean   \n",
       "1   1477685       358141  Blue Ribbon Sushi Izakaya     Japanese   \n",
       "2   1477070        66393                Cafe Habana      Mexican   \n",
       "3   1477334       106968  Blue Ribbon Fried Chicken     American   \n",
       "4   1478249        76942           Dirty Bird to Go     American   \n",
       "\n",
       "   cost_of_the_order day_of_the_week     rating  food_preparation_time  \\\n",
       "0              30.75         Weekend  Not given                     25   \n",
       "1              12.08         Weekend  Not given                     25   \n",
       "2              12.23         Weekday          5                     23   \n",
       "3              29.20         Weekend          3                     25   \n",
       "4              11.59         Weekday          4                     25   \n",
       "\n",
       "   delivery_time  \n",
       "0             20  \n",
       "1             23  \n",
       "2             28  \n",
       "3             15  \n",
       "4             24  "
      ]
     },
     "execution_count": 5,
     "metadata": {},
     "output_type": "execute_result"
    }
   ],
   "source": [
    "nyc.head()"
   ]
  },
  {
   "cell_type": "markdown",
   "id": "f50d111d-58d1-4b1e-9a5d-c2869988d08f",
   "metadata": {},
   "source": [
    "#Find data dimensions (rows and columns)"
   ]
  },
  {
   "cell_type": "code",
   "execution_count": null,
   "id": "b36ef49d-fe79-455d-94f0-f379124b0db7",
   "metadata": {},
   "outputs": [],
   "source": []
  },
  {
   "cell_type": "markdown",
   "id": "8bf9bf92-68e2-45d1-988f-125e2d24f5a2",
   "metadata": {},
   "source": [
    "#find summary statistics"
   ]
  },
  {
   "cell_type": "code",
   "execution_count": 6,
   "id": "5749c539-41a6-43c2-a001-4603e60e9877",
   "metadata": {},
   "outputs": [
    {
     "name": "stdout",
     "output_type": "stream",
     "text": [
      "       cost_of_the_order  food_preparation_time  delivery_time\n",
      "count            1898.00                1898.00        1898.00\n",
      "mean               16.50                  27.37          24.16\n",
      "std                 7.48                   4.63           4.97\n",
      "min                 4.47                  20.00          15.00\n",
      "25%                12.08                  23.00          20.00\n",
      "50%                14.14                  27.00          25.00\n",
      "75%                22.30                  31.00          28.00\n",
      "max                35.41                  35.00          33.00\n"
     ]
    }
   ],
   "source": [
    "print(nyc.loc[:,~nyc.columns.isin(['order_id','customer_id'])].describe().round(2))"
   ]
  },
  {
   "cell_type": "markdown",
   "id": "0caf16bb-cc9c-4ce6-8128-8230d67a62f9",
   "metadata": {},
   "source": [
    "#Table of cuisine types"
   ]
  },
  {
   "cell_type": "code",
   "execution_count": 7,
   "id": "65cf5481-5a58-4bfe-bbf4-533ee348f92d",
   "metadata": {},
   "outputs": [],
   "source": [
    "pd.options.display.max_rows = 20"
   ]
  },
  {
   "cell_type": "code",
   "execution_count": 8,
   "id": "83f62181-3dd7-4ca6-887c-d385c5ad343f",
   "metadata": {},
   "outputs": [
    {
     "data": {
      "text/plain": [
       "cuisine_type  restaurant_name          \n",
       "American      Shake Shack                  219\n",
       "Japanese      Blue Ribbon Sushi            119\n",
       "Italian       The Meatball Shop            112\n",
       "American      Blue Ribbon Fried Chicken     96\n",
       "Italian       Parm                          68\n",
       "                                          ... \n",
       "Mexican       Cafe de La Esquina             1\n",
       "Japanese      Hiroko's Place                 1\n",
       "Mexican       Crema Restaurante              1\n",
       "Indian        Chote Nawab                    1\n",
       "American      'wichcraft                     1\n",
       "Length: 179, dtype: int64"
      ]
     },
     "metadata": {},
     "output_type": "display_data"
    }
   ],
   "source": [
    "occur = nyc.groupby([\"cuisine_type\",\"restaurant_name\"]).size().sort_values(ascending=False)\n",
    "display(occur)"
   ]
  },
  {
   "cell_type": "code",
   "execution_count": null,
   "id": "77f5a579-dac4-4913-9da4-e84ac7e8ddc6",
   "metadata": {},
   "outputs": [],
   "source": []
  }
 ],
 "metadata": {
  "kernelspec": {
   "display_name": "Python 3 (ipykernel)",
   "language": "python",
   "name": "python3"
  },
  "language_info": {
   "codemirror_mode": {
    "name": "ipython",
    "version": 3
   },
   "file_extension": ".py",
   "mimetype": "text/x-python",
   "name": "python",
   "nbconvert_exporter": "python",
   "pygments_lexer": "ipython3",
   "version": "3.9.13"
  },
  "toc-autonumbering": true,
  "toc-showcode": true,
  "toc-showmarkdowntxt": true
 },
 "nbformat": 4,
 "nbformat_minor": 5
}
