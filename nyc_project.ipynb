{
 "cells": [
  {
   "cell_type": "markdown",
   "id": "11d3e3a6-64f2-484b-b5b6-db0e16de7b4f",
   "metadata": {},
   "source": [
    "##### Library Import"
   ]
  },
  {
   "cell_type": "code",
   "execution_count": 28,
   "id": "05ea9cef-c35f-4c20-9c82-40e4438117ba",
   "metadata": {},
   "outputs": [],
   "source": [
    "import os\n",
    "import pandas as pd\n",
    "import numpy as np\n",
    "import math\n",
    "import missingno as msno\n",
    "from sklearn.impute import SimpleImputer\n",
    "import matplotlib.pyplot as plt\n",
    "import seaborn as sns"
   ]
  },
  {
   "cell_type": "code",
   "execution_count": 2,
   "id": "022db300-713b-4788-ba59-5adbce6d0452",
   "metadata": {},
   "outputs": [],
   "source": [
    "##setting working directory\n",
    "os.chdir('C:/Users/Jeric/OneDrive/Desktop/Personal Projects/NYC_restaurants')"
   ]
  },
  {
   "cell_type": "code",
   "execution_count": 3,
   "id": "cd2f2d5d-e10e-474b-8704-02195911cf47",
   "metadata": {},
   "outputs": [],
   "source": [
    "nyc = pd.read_csv(\"C:/Users/Jeric/OneDrive/Desktop/Personal Projects/NYC_restaurants/food_order.csv\")"
   ]
  },
  {
   "cell_type": "markdown",
   "id": "25d353d6-4e7e-46c0-9e0b-a068ab7a3d06",
   "metadata": {},
   "source": [
    "# Preliminary look at data"
   ]
  },
  {
   "cell_type": "code",
   "execution_count": 4,
   "id": "82dcff82-a6f3-4cda-8f4c-354265af6161",
   "metadata": {},
   "outputs": [
    {
     "data": {
      "text/html": [
       "<div>\n",
       "<style scoped>\n",
       "    .dataframe tbody tr th:only-of-type {\n",
       "        vertical-align: middle;\n",
       "    }\n",
       "\n",
       "    .dataframe tbody tr th {\n",
       "        vertical-align: top;\n",
       "    }\n",
       "\n",
       "    .dataframe thead th {\n",
       "        text-align: right;\n",
       "    }\n",
       "</style>\n",
       "<table border=\"1\" class=\"dataframe\">\n",
       "  <thead>\n",
       "    <tr style=\"text-align: right;\">\n",
       "      <th></th>\n",
       "      <th>order_id</th>\n",
       "      <th>customer_id</th>\n",
       "      <th>restaurant_name</th>\n",
       "      <th>cuisine_type</th>\n",
       "      <th>cost_of_the_order</th>\n",
       "      <th>day_of_the_week</th>\n",
       "      <th>rating</th>\n",
       "      <th>food_preparation_time</th>\n",
       "      <th>delivery_time</th>\n",
       "    </tr>\n",
       "  </thead>\n",
       "  <tbody>\n",
       "    <tr>\n",
       "      <th>0</th>\n",
       "      <td>1477147</td>\n",
       "      <td>337525</td>\n",
       "      <td>Hangawi</td>\n",
       "      <td>Korean</td>\n",
       "      <td>30.75</td>\n",
       "      <td>Weekend</td>\n",
       "      <td>Not given</td>\n",
       "      <td>25</td>\n",
       "      <td>20</td>\n",
       "    </tr>\n",
       "    <tr>\n",
       "      <th>1</th>\n",
       "      <td>1477685</td>\n",
       "      <td>358141</td>\n",
       "      <td>Blue Ribbon Sushi Izakaya</td>\n",
       "      <td>Japanese</td>\n",
       "      <td>12.08</td>\n",
       "      <td>Weekend</td>\n",
       "      <td>Not given</td>\n",
       "      <td>25</td>\n",
       "      <td>23</td>\n",
       "    </tr>\n",
       "    <tr>\n",
       "      <th>2</th>\n",
       "      <td>1477070</td>\n",
       "      <td>66393</td>\n",
       "      <td>Cafe Habana</td>\n",
       "      <td>Mexican</td>\n",
       "      <td>12.23</td>\n",
       "      <td>Weekday</td>\n",
       "      <td>5</td>\n",
       "      <td>23</td>\n",
       "      <td>28</td>\n",
       "    </tr>\n",
       "    <tr>\n",
       "      <th>3</th>\n",
       "      <td>1477334</td>\n",
       "      <td>106968</td>\n",
       "      <td>Blue Ribbon Fried Chicken</td>\n",
       "      <td>American</td>\n",
       "      <td>29.20</td>\n",
       "      <td>Weekend</td>\n",
       "      <td>3</td>\n",
       "      <td>25</td>\n",
       "      <td>15</td>\n",
       "    </tr>\n",
       "    <tr>\n",
       "      <th>4</th>\n",
       "      <td>1478249</td>\n",
       "      <td>76942</td>\n",
       "      <td>Dirty Bird to Go</td>\n",
       "      <td>American</td>\n",
       "      <td>11.59</td>\n",
       "      <td>Weekday</td>\n",
       "      <td>4</td>\n",
       "      <td>25</td>\n",
       "      <td>24</td>\n",
       "    </tr>\n",
       "  </tbody>\n",
       "</table>\n",
       "</div>"
      ],
      "text/plain": [
       "   order_id  customer_id            restaurant_name cuisine_type  \\\n",
       "0   1477147       337525                    Hangawi       Korean   \n",
       "1   1477685       358141  Blue Ribbon Sushi Izakaya     Japanese   \n",
       "2   1477070        66393                Cafe Habana      Mexican   \n",
       "3   1477334       106968  Blue Ribbon Fried Chicken     American   \n",
       "4   1478249        76942           Dirty Bird to Go     American   \n",
       "\n",
       "   cost_of_the_order day_of_the_week     rating  food_preparation_time  \\\n",
       "0              30.75         Weekend  Not given                     25   \n",
       "1              12.08         Weekend  Not given                     25   \n",
       "2              12.23         Weekday          5                     23   \n",
       "3              29.20         Weekend          3                     25   \n",
       "4              11.59         Weekday          4                     25   \n",
       "\n",
       "   delivery_time  \n",
       "0             20  \n",
       "1             23  \n",
       "2             28  \n",
       "3             15  \n",
       "4             24  "
      ]
     },
     "execution_count": 4,
     "metadata": {},
     "output_type": "execute_result"
    }
   ],
   "source": [
    "nyc.head()"
   ]
  },
  {
   "cell_type": "code",
   "execution_count": 5,
   "id": "802ca76e",
   "metadata": {
    "scrolled": true
   },
   "outputs": [
    {
     "name": "stdout",
     "output_type": "stream",
     "text": [
      "Number of columns:  9 ,and number of rows:  1898\n"
     ]
    }
   ],
   "source": [
    "#data dimensions\n",
    "row = len(nyc.axes[0])\n",
    "column = len(nyc.axes[1])\n",
    "print(\"Number of columns: \",column,\",and number of rows: \",row)\n"
   ]
  },
  {
   "cell_type": "code",
   "execution_count": 6,
   "id": "a4b49809",
   "metadata": {},
   "outputs": [],
   "source": [
    "#nyc.iloc[:, [2,3,5,6]] = nyc.iloc[:, [2,3,5,6]].astype('category')"
   ]
  },
  {
   "cell_type": "code",
   "execution_count": 7,
   "id": "653db51a",
   "metadata": {},
   "outputs": [
    {
     "data": {
      "text/plain": [
       "order_id                   int64\n",
       "customer_id                int64\n",
       "restaurant_name           object\n",
       "cuisine_type              object\n",
       "cost_of_the_order        float64\n",
       "day_of_the_week           object\n",
       "rating                    object\n",
       "food_preparation_time      int64\n",
       "delivery_time              int64\n",
       "dtype: object"
      ]
     },
     "execution_count": 7,
     "metadata": {},
     "output_type": "execute_result"
    }
   ],
   "source": [
    "nyc.dtypes"
   ]
  },
  {
   "cell_type": "markdown",
   "id": "f9b28c1a",
   "metadata": {},
   "source": [
    "Categorical variables: restaurant name, cuisine type, rating (ordinal)"
   ]
  },
  {
   "cell_type": "markdown",
   "id": "147a14eb",
   "metadata": {},
   "source": [
    "Numerical: cost of order, food preparation, delivery time"
   ]
  },
  {
   "cell_type": "code",
   "execution_count": 8,
   "id": "9e6dbdff",
   "metadata": {},
   "outputs": [
    {
     "name": "stdout",
     "output_type": "stream",
     "text": [
      "rating\n",
      "Not given    736\n",
      "5            588\n",
      "4            386\n",
      "3            188\n",
      "dtype: int64\n"
     ]
    }
   ],
   "source": [
    "rating_distribution = nyc.groupby(\"rating\").size().sort_values(ascending=False)\n",
    "print(rating_distribution)"
   ]
  },
  {
   "cell_type": "markdown",
   "id": "60187a4d",
   "metadata": {},
   "source": [
    "There are 736 orders that do not have a rating which is approximately 38.78% of the data set, making it difficult to ignore and simply delete. "
   ]
  },
  {
   "cell_type": "markdown",
   "id": "3d8bbe8d",
   "metadata": {},
   "source": [
    "### Why the empty ratings?\n",
    "A quote from Himanshu Khanna, CEO of Sparklin, states that \"Personality, mood, environment, urgency of the requirement, and eventual gratification all weigh in on how a user rates something\". Usually it is strong feelings that spur customers to give feedback. A customer having a standard experience may not neccesarily find leaving a review worth the effort."
   ]
  },
  {
   "cell_type": "markdown",
   "id": "239f1187",
   "metadata": {},
   "source": [
    "### Solution?\n",
    "It is possible to assume that the missing data can be categorized as missing at random (MAR) which means that the reason that people do not give a rating may be related to other variables within the data. A possible solution would then be to either only observe the data with ratings or to impute the missing data. For this notebook, The missing data will be imputed and observed then compared to the unmodified data in terms of visualization."
   ]
  },
  {
   "cell_type": "code",
   "execution_count": 9,
   "id": "48628f2e",
   "metadata": {},
   "outputs": [],
   "source": [
    "#replace \"Not Given\" with NA\n",
    "nyc_imp = nyc.copy()\n",
    "nyc_imp['rating_imp'] = nyc_imp['rating']\n",
    "nyc_imp['rating_imp'] = nyc_imp['rating_imp'].replace('Not given', np.nan)"
   ]
  },
  {
   "cell_type": "code",
   "execution_count": 10,
   "id": "fe10afdd",
   "metadata": {},
   "outputs": [
    {
     "data": {
      "text/html": [
       "<div>\n",
       "<style scoped>\n",
       "    .dataframe tbody tr th:only-of-type {\n",
       "        vertical-align: middle;\n",
       "    }\n",
       "\n",
       "    .dataframe tbody tr th {\n",
       "        vertical-align: top;\n",
       "    }\n",
       "\n",
       "    .dataframe thead th {\n",
       "        text-align: right;\n",
       "    }\n",
       "</style>\n",
       "<table border=\"1\" class=\"dataframe\">\n",
       "  <thead>\n",
       "    <tr style=\"text-align: right;\">\n",
       "      <th></th>\n",
       "      <th>order_id</th>\n",
       "      <th>customer_id</th>\n",
       "      <th>restaurant_name</th>\n",
       "      <th>cuisine_type</th>\n",
       "      <th>cost_of_the_order</th>\n",
       "      <th>day_of_the_week</th>\n",
       "      <th>rating</th>\n",
       "      <th>food_preparation_time</th>\n",
       "      <th>delivery_time</th>\n",
       "      <th>rating_imp</th>\n",
       "    </tr>\n",
       "  </thead>\n",
       "  <tbody>\n",
       "    <tr>\n",
       "      <th>0</th>\n",
       "      <td>1477147</td>\n",
       "      <td>337525</td>\n",
       "      <td>Hangawi</td>\n",
       "      <td>Korean</td>\n",
       "      <td>30.75</td>\n",
       "      <td>Weekend</td>\n",
       "      <td>Not given</td>\n",
       "      <td>25</td>\n",
       "      <td>20</td>\n",
       "      <td>NaN</td>\n",
       "    </tr>\n",
       "    <tr>\n",
       "      <th>1</th>\n",
       "      <td>1477685</td>\n",
       "      <td>358141</td>\n",
       "      <td>Blue Ribbon Sushi Izakaya</td>\n",
       "      <td>Japanese</td>\n",
       "      <td>12.08</td>\n",
       "      <td>Weekend</td>\n",
       "      <td>Not given</td>\n",
       "      <td>25</td>\n",
       "      <td>23</td>\n",
       "      <td>NaN</td>\n",
       "    </tr>\n",
       "    <tr>\n",
       "      <th>2</th>\n",
       "      <td>1477070</td>\n",
       "      <td>66393</td>\n",
       "      <td>Cafe Habana</td>\n",
       "      <td>Mexican</td>\n",
       "      <td>12.23</td>\n",
       "      <td>Weekday</td>\n",
       "      <td>5</td>\n",
       "      <td>23</td>\n",
       "      <td>28</td>\n",
       "      <td>5</td>\n",
       "    </tr>\n",
       "    <tr>\n",
       "      <th>3</th>\n",
       "      <td>1477334</td>\n",
       "      <td>106968</td>\n",
       "      <td>Blue Ribbon Fried Chicken</td>\n",
       "      <td>American</td>\n",
       "      <td>29.20</td>\n",
       "      <td>Weekend</td>\n",
       "      <td>3</td>\n",
       "      <td>25</td>\n",
       "      <td>15</td>\n",
       "      <td>3</td>\n",
       "    </tr>\n",
       "    <tr>\n",
       "      <th>4</th>\n",
       "      <td>1478249</td>\n",
       "      <td>76942</td>\n",
       "      <td>Dirty Bird to Go</td>\n",
       "      <td>American</td>\n",
       "      <td>11.59</td>\n",
       "      <td>Weekday</td>\n",
       "      <td>4</td>\n",
       "      <td>25</td>\n",
       "      <td>24</td>\n",
       "      <td>4</td>\n",
       "    </tr>\n",
       "  </tbody>\n",
       "</table>\n",
       "</div>"
      ],
      "text/plain": [
       "   order_id  customer_id            restaurant_name cuisine_type  \\\n",
       "0   1477147       337525                    Hangawi       Korean   \n",
       "1   1477685       358141  Blue Ribbon Sushi Izakaya     Japanese   \n",
       "2   1477070        66393                Cafe Habana      Mexican   \n",
       "3   1477334       106968  Blue Ribbon Fried Chicken     American   \n",
       "4   1478249        76942           Dirty Bird to Go     American   \n",
       "\n",
       "   cost_of_the_order day_of_the_week     rating  food_preparation_time  \\\n",
       "0              30.75         Weekend  Not given                     25   \n",
       "1              12.08         Weekend  Not given                     25   \n",
       "2              12.23         Weekday          5                     23   \n",
       "3              29.20         Weekend          3                     25   \n",
       "4              11.59         Weekday          4                     25   \n",
       "\n",
       "   delivery_time rating_imp  \n",
       "0             20        NaN  \n",
       "1             23        NaN  \n",
       "2             28          5  \n",
       "3             15          3  \n",
       "4             24          4  "
      ]
     },
     "execution_count": 10,
     "metadata": {},
     "output_type": "execute_result"
    }
   ],
   "source": [
    "nyc_imp.head()"
   ]
  },
  {
   "cell_type": "code",
   "execution_count": 12,
   "id": "f2248bb0",
   "metadata": {},
   "outputs": [
    {
     "data": {
      "text/html": [
       "<div>\n",
       "<style scoped>\n",
       "    .dataframe tbody tr th:only-of-type {\n",
       "        vertical-align: middle;\n",
       "    }\n",
       "\n",
       "    .dataframe tbody tr th {\n",
       "        vertical-align: top;\n",
       "    }\n",
       "\n",
       "    .dataframe thead th {\n",
       "        text-align: right;\n",
       "    }\n",
       "</style>\n",
       "<table border=\"1\" class=\"dataframe\">\n",
       "  <thead>\n",
       "    <tr style=\"text-align: right;\">\n",
       "      <th></th>\n",
       "      <th>order_id</th>\n",
       "      <th>customer_id</th>\n",
       "      <th>restaurant_name</th>\n",
       "      <th>cuisine_type</th>\n",
       "      <th>cost_of_the_order</th>\n",
       "      <th>day_of_the_week</th>\n",
       "      <th>rating</th>\n",
       "      <th>food_preparation_time</th>\n",
       "      <th>delivery_time</th>\n",
       "      <th>rating_imp</th>\n",
       "    </tr>\n",
       "  </thead>\n",
       "  <tbody>\n",
       "    <tr>\n",
       "      <th>0</th>\n",
       "      <td>1477147</td>\n",
       "      <td>337525</td>\n",
       "      <td>Hangawi</td>\n",
       "      <td>Korean</td>\n",
       "      <td>30.75</td>\n",
       "      <td>Weekend</td>\n",
       "      <td>Not given</td>\n",
       "      <td>25</td>\n",
       "      <td>20</td>\n",
       "      <td>4.344234</td>\n",
       "    </tr>\n",
       "    <tr>\n",
       "      <th>1</th>\n",
       "      <td>1477685</td>\n",
       "      <td>358141</td>\n",
       "      <td>Blue Ribbon Sushi Izakaya</td>\n",
       "      <td>Japanese</td>\n",
       "      <td>12.08</td>\n",
       "      <td>Weekend</td>\n",
       "      <td>Not given</td>\n",
       "      <td>25</td>\n",
       "      <td>23</td>\n",
       "      <td>4.344234</td>\n",
       "    </tr>\n",
       "    <tr>\n",
       "      <th>2</th>\n",
       "      <td>1477070</td>\n",
       "      <td>66393</td>\n",
       "      <td>Cafe Habana</td>\n",
       "      <td>Mexican</td>\n",
       "      <td>12.23</td>\n",
       "      <td>Weekday</td>\n",
       "      <td>5</td>\n",
       "      <td>23</td>\n",
       "      <td>28</td>\n",
       "      <td>5.000000</td>\n",
       "    </tr>\n",
       "    <tr>\n",
       "      <th>3</th>\n",
       "      <td>1477334</td>\n",
       "      <td>106968</td>\n",
       "      <td>Blue Ribbon Fried Chicken</td>\n",
       "      <td>American</td>\n",
       "      <td>29.20</td>\n",
       "      <td>Weekend</td>\n",
       "      <td>3</td>\n",
       "      <td>25</td>\n",
       "      <td>15</td>\n",
       "      <td>3.000000</td>\n",
       "    </tr>\n",
       "    <tr>\n",
       "      <th>4</th>\n",
       "      <td>1478249</td>\n",
       "      <td>76942</td>\n",
       "      <td>Dirty Bird to Go</td>\n",
       "      <td>American</td>\n",
       "      <td>11.59</td>\n",
       "      <td>Weekday</td>\n",
       "      <td>4</td>\n",
       "      <td>25</td>\n",
       "      <td>24</td>\n",
       "      <td>4.000000</td>\n",
       "    </tr>\n",
       "  </tbody>\n",
       "</table>\n",
       "</div>"
      ],
      "text/plain": [
       "   order_id  customer_id            restaurant_name cuisine_type  \\\n",
       "0   1477147       337525                    Hangawi       Korean   \n",
       "1   1477685       358141  Blue Ribbon Sushi Izakaya     Japanese   \n",
       "2   1477070        66393                Cafe Habana      Mexican   \n",
       "3   1477334       106968  Blue Ribbon Fried Chicken     American   \n",
       "4   1478249        76942           Dirty Bird to Go     American   \n",
       "\n",
       "   cost_of_the_order day_of_the_week     rating  food_preparation_time  \\\n",
       "0              30.75         Weekend  Not given                     25   \n",
       "1              12.08         Weekend  Not given                     25   \n",
       "2              12.23         Weekday          5                     23   \n",
       "3              29.20         Weekend          3                     25   \n",
       "4              11.59         Weekday          4                     25   \n",
       "\n",
       "   delivery_time  rating_imp  \n",
       "0             20    4.344234  \n",
       "1             23    4.344234  \n",
       "2             28    5.000000  \n",
       "3             15    3.000000  \n",
       "4             24    4.000000  "
      ]
     },
     "execution_count": 12,
     "metadata": {},
     "output_type": "execute_result"
    }
   ],
   "source": [
    "#mean imputation where the missings are replaced with the mean of the ratings\n",
    "mean_imputer = SimpleImputer(strategy='mean')\n",
    "nyc_imp['rating_imp'] = mean_imputer.fit_transform(nyc_imp['rating_imp'].values.reshape(-1,1))\n",
    "nyc_imp.head()"
   ]
  },
  {
   "cell_type": "code",
   "execution_count": 26,
   "id": "7dde1ad2",
   "metadata": {},
   "outputs": [
    {
     "name": "stdout",
     "output_type": "stream",
     "text": [
      "rating_imp\n",
      "4.344234    736\n",
      "5.000000    588\n",
      "4.000000    386\n",
      "3.000000    188\n",
      "dtype: int64\n"
     ]
    }
   ],
   "source": [
    "rating_distribution2 = nyc_imp.groupby(\"rating_imp\").size().sort_values(ascending=False)\n",
    "print(rating_distribution2)"
   ]
  },
  {
   "cell_type": "markdown",
   "id": "e67a84c2",
   "metadata": {},
   "source": [
    "The 'Not given' records have now been replaced with the mean rating which is 4.34 which allows us to make use of the previously missing data and give us insight closer to reality than if we were to simply cut out the data."
   ]
  },
  {
   "cell_type": "code",
   "execution_count": 13,
   "id": "5749c539-41a6-43c2-a001-4603e60e9877",
   "metadata": {},
   "outputs": [
    {
     "name": "stdout",
     "output_type": "stream",
     "text": [
      "       cost_of_the_order  food_preparation_time  delivery_time  rating_imp\n",
      "count            1898.00                1898.00        1898.00     1898.00\n",
      "mean               16.50                  27.37          24.16        4.34\n",
      "std                 7.48                   4.63           4.97        0.58\n",
      "min                 4.47                  20.00          15.00        3.00\n",
      "25%                12.08                  23.00          20.00        4.00\n",
      "50%                14.14                  27.00          25.00        4.34\n",
      "75%                22.30                  31.00          28.00        5.00\n",
      "max                35.41                  35.00          33.00        5.00\n"
     ]
    }
   ],
   "source": [
    "#find summary statistics\n",
    "print(nyc_imp.loc[:,~nyc_imp.columns.isin(['order_id','customer_id'])].describe().round(2))"
   ]
  },
  {
   "cell_type": "markdown",
   "id": "0caf16bb-cc9c-4ce6-8128-8230d67a62f9",
   "metadata": {},
   "source": [
    "Table of cuisine types"
   ]
  },
  {
   "cell_type": "code",
   "execution_count": 14,
   "id": "65cf5481-5a58-4bfe-bbf4-533ee348f92d",
   "metadata": {},
   "outputs": [],
   "source": [
    "#limit the display rows to 20 for readability\n",
    "pd.options.display.max_rows = 20"
   ]
  },
  {
   "cell_type": "code",
   "execution_count": 15,
   "id": "83f62181-3dd7-4ca6-887c-d385c5ad343f",
   "metadata": {},
   "outputs": [
    {
     "name": "stdout",
     "output_type": "stream",
     "text": [
      "cuisine_type\n",
      "American          584\n",
      "Japanese          470\n",
      "Italian           298\n",
      "Chinese           215\n",
      "Mexican            77\n",
      "Indian             73\n",
      "Middle Eastern     49\n",
      "Mediterranean      46\n",
      "Thai               19\n",
      "French             18\n",
      "dtype: int64\n"
     ]
    }
   ],
   "source": [
    "cuisine_type = nyc_imp.groupby([\"cuisine_type\"]).size().sort_values(ascending=False)\n",
    "print(cuisine_type.head(10))"
   ]
  },
  {
   "cell_type": "code",
   "execution_count": 30,
   "id": "f946af6b",
   "metadata": {},
   "outputs": [
    {
     "data": {
      "image/png": "[encoded data removed]",
      "text/plain": [
       "<Figure size 1000x600 with 1 Axes>"
      ]
     },
     "metadata": {},
     "output_type": "display_data"
    }
   ],
   "source": [
    "# Plot the bar chart\n",
    "plt.figure(figsize=(10, 6))\n",
    "sns.barplot(x = cuisine_type.index, y = cuisine_type.values)\n",
    "plt.xlabel(\"cuisine type\")\n",
    "plt.ylabel(\"Number of types\")\n",
    "plt.title(\"Cuisine Frequency in NY\")\n",
    "plt.xticks(rotation=45)\n",
    "plt.show()"
   ]
  },
  {
   "cell_type": "markdown",
   "id": "c8d68a8f",
   "metadata": {},
   "source": [
    "Visualized, we can see that the most ordered cuisine type in New York is American followed by Japanese and then Italian."
   ]
  },
  {
   "cell_type": "code",
   "execution_count": 16,
   "id": "77f5a579-dac4-4913-9da4-e84ac7e8ddc6",
   "metadata": {},
   "outputs": [
    {
     "data": {
      "text/plain": [
       "cuisine_type\n",
       "French            19.793889\n",
       "Southern          19.300588\n",
       "Thai              19.207895\n",
       "Spanish           18.994167\n",
       "Middle Eastern    18.820612\n",
       "Mexican           16.933117\n",
       "Indian            16.919726\n",
       "Italian           16.418691\n",
       "American          16.319829\n",
       "Chinese           16.305209\n",
       "Japanese          16.304532\n",
       "Mediterranean     15.474783\n",
       "Korean            14.001538\n",
       "Vietnamese        12.882857\n",
       "Name: cost_of_the_order, dtype: float64"
      ]
     },
     "metadata": {},
     "output_type": "display_data"
    }
   ],
   "source": [
    "avgprice_cuisine = nyc_imp.groupby(\"cuisine_type\")[\"cost_of_the_order\"].mean().sort_values(ascending=False)\n",
    "display(avgprice_cuisine)"
   ]
  },
  {
   "cell_type": "code",
   "execution_count": 17,
   "id": "7ec642a4",
   "metadata": {},
   "outputs": [
    {
     "data": {
      "text/plain": [
       "cuisine_type\n",
       "Southern          27.588235\n",
       "Chinese           27.511628\n",
       "Japanese          27.510638\n",
       "Italian           27.483221\n",
       "American          27.440068\n",
       "Thai              27.315789\n",
       "Indian            27.109589\n",
       "Mediterranean     27.000000\n",
       "Spanish           26.916667\n",
       "French            26.888889\n",
       "Mexican           26.727273\n",
       "Middle Eastern    26.673469\n",
       "Vietnamese        25.714286\n",
       "Korean            25.461538\n",
       "Name: food_preparation_time, dtype: float64"
      ]
     },
     "metadata": {},
     "output_type": "display_data"
    }
   ],
   "source": [
    "avgprep_cuisine = nyc.groupby(\"cuisine_type\")[\"food_preparation_time\"].mean().sort_values(ascending=False)\n",
    "display(avgprep_cuisine)"
   ]
  },
  {
   "cell_type": "code",
   "execution_count": 18,
   "id": "bda1f765",
   "metadata": {
    "scrolled": true
   },
   "outputs": [
    {
     "name": "stdout",
     "output_type": "stream",
     "text": [
      "restaurant_name\n",
      "Shake Shack                      219\n",
      "The Meatball Shop                132\n",
      "Blue Ribbon Sushi                119\n",
      "Blue Ribbon Fried Chicken         96\n",
      "Parm                              68\n",
      "RedFarm Broadway                  59\n",
      "RedFarm Hudson                    55\n",
      "TAO                               49\n",
      "Han Dynasty                       46\n",
      "Blue Ribbon Sushi Bar & Grill     44\n",
      "dtype: int64\n"
     ]
    }
   ],
   "source": [
    "most_popular_restaurants = nyc_imp.groupby([\"restaurant_name\"]).size().sort_values(ascending=False)\n",
    "print(most_popular_restaurants.head(10))"
   ]
  },
  {
   "cell_type": "code",
   "execution_count": 19,
   "id": "ed6abfa6",
   "metadata": {},
   "outputs": [
    {
     "name": "stdout",
     "output_type": "stream",
     "text": [
      "day_of_the_week\n",
      "Weekend    1351\n",
      "Weekday     547\n",
      "dtype: int64\n"
     ]
    }
   ],
   "source": [
    "#when are there most orders?\n",
    "day_of_orders = nyc_imp.groupby([\"day_of_the_week\"]).size().sort_values(ascending=False)\n",
    "print(day_of_orders.head(10)) #mostly during the weekend"
   ]
  },
  {
   "cell_type": "code",
   "execution_count": 20,
   "id": "c7b1dc0d",
   "metadata": {},
   "outputs": [
    {
     "data": {
      "text/html": [
       "<div>\n",
       "<style scoped>\n",
       "    .dataframe tbody tr th:only-of-type {\n",
       "        vertical-align: middle;\n",
       "    }\n",
       "\n",
       "    .dataframe tbody tr th {\n",
       "        vertical-align: top;\n",
       "    }\n",
       "\n",
       "    .dataframe thead th {\n",
       "        text-align: right;\n",
       "    }\n",
       "</style>\n",
       "<table border=\"1\" class=\"dataframe\">\n",
       "  <thead>\n",
       "    <tr style=\"text-align: right;\">\n",
       "      <th></th>\n",
       "      <th>order_id</th>\n",
       "      <th>customer_id</th>\n",
       "      <th>restaurant_name</th>\n",
       "      <th>cuisine_type</th>\n",
       "      <th>cost_of_the_order</th>\n",
       "      <th>day_of_the_week</th>\n",
       "      <th>rating</th>\n",
       "      <th>food_preparation_time</th>\n",
       "      <th>delivery_time</th>\n",
       "      <th>rating_imp</th>\n",
       "      <th>prep+del</th>\n",
       "    </tr>\n",
       "  </thead>\n",
       "  <tbody>\n",
       "    <tr>\n",
       "      <th>0</th>\n",
       "      <td>1477147</td>\n",
       "      <td>337525</td>\n",
       "      <td>Hangawi</td>\n",
       "      <td>Korean</td>\n",
       "      <td>30.75</td>\n",
       "      <td>Weekend</td>\n",
       "      <td>Not given</td>\n",
       "      <td>25</td>\n",
       "      <td>20</td>\n",
       "      <td>4.344234</td>\n",
       "      <td>45</td>\n",
       "    </tr>\n",
       "    <tr>\n",
       "      <th>1</th>\n",
       "      <td>1477685</td>\n",
       "      <td>358141</td>\n",
       "      <td>Blue Ribbon Sushi Izakaya</td>\n",
       "      <td>Japanese</td>\n",
       "      <td>12.08</td>\n",
       "      <td>Weekend</td>\n",
       "      <td>Not given</td>\n",
       "      <td>25</td>\n",
       "      <td>23</td>\n",
       "      <td>4.344234</td>\n",
       "      <td>48</td>\n",
       "    </tr>\n",
       "    <tr>\n",
       "      <th>2</th>\n",
       "      <td>1477070</td>\n",
       "      <td>66393</td>\n",
       "      <td>Cafe Habana</td>\n",
       "      <td>Mexican</td>\n",
       "      <td>12.23</td>\n",
       "      <td>Weekday</td>\n",
       "      <td>5</td>\n",
       "      <td>23</td>\n",
       "      <td>28</td>\n",
       "      <td>5.000000</td>\n",
       "      <td>51</td>\n",
       "    </tr>\n",
       "    <tr>\n",
       "      <th>3</th>\n",
       "      <td>1477334</td>\n",
       "      <td>106968</td>\n",
       "      <td>Blue Ribbon Fried Chicken</td>\n",
       "      <td>American</td>\n",
       "      <td>29.20</td>\n",
       "      <td>Weekend</td>\n",
       "      <td>3</td>\n",
       "      <td>25</td>\n",
       "      <td>15</td>\n",
       "      <td>3.000000</td>\n",
       "      <td>40</td>\n",
       "    </tr>\n",
       "    <tr>\n",
       "      <th>4</th>\n",
       "      <td>1478249</td>\n",
       "      <td>76942</td>\n",
       "      <td>Dirty Bird to Go</td>\n",
       "      <td>American</td>\n",
       "      <td>11.59</td>\n",
       "      <td>Weekday</td>\n",
       "      <td>4</td>\n",
       "      <td>25</td>\n",
       "      <td>24</td>\n",
       "      <td>4.000000</td>\n",
       "      <td>49</td>\n",
       "    </tr>\n",
       "  </tbody>\n",
       "</table>\n",
       "</div>"
      ],
      "text/plain": [
       "   order_id  customer_id            restaurant_name cuisine_type  \\\n",
       "0   1477147       337525                    Hangawi       Korean   \n",
       "1   1477685       358141  Blue Ribbon Sushi Izakaya     Japanese   \n",
       "2   1477070        66393                Cafe Habana      Mexican   \n",
       "3   1477334       106968  Blue Ribbon Fried Chicken     American   \n",
       "4   1478249        76942           Dirty Bird to Go     American   \n",
       "\n",
       "   cost_of_the_order day_of_the_week     rating  food_preparation_time  \\\n",
       "0              30.75         Weekend  Not given                     25   \n",
       "1              12.08         Weekend  Not given                     25   \n",
       "2              12.23         Weekday          5                     23   \n",
       "3              29.20         Weekend          3                     25   \n",
       "4              11.59         Weekday          4                     25   \n",
       "\n",
       "   delivery_time  rating_imp  prep+del  \n",
       "0             20    4.344234        45  \n",
       "1             23    4.344234        48  \n",
       "2             28    5.000000        51  \n",
       "3             15    3.000000        40  \n",
       "4             24    4.000000        49  "
      ]
     },
     "execution_count": 20,
     "metadata": {},
     "output_type": "execute_result"
    }
   ],
   "source": [
    "#How long on average is the time between ordering food and receiving it?\n",
    "nyc_imp['prep+del'] = nyc_imp['food_preparation_time'] + nyc_imp['delivery_time']\n",
    "nyc_imp.head()"
   ]
  },
  {
   "cell_type": "code",
   "execution_count": 21,
   "id": "e9a09514",
   "metadata": {},
   "outputs": [
    {
     "data": {
      "text/plain": [
       "cuisine_type\n",
       "French            52.222222\n",
       "Italian           52.050336\n",
       "Vietnamese        51.857143\n",
       "Japanese          51.642553\n",
       "American          51.633562\n",
       "Southern          51.411765\n",
       "Chinese           51.367442\n",
       "Indian            51.191781\n",
       "Mexican           51.116883\n",
       "Middle Eastern    50.755102\n",
       "Mediterranean     50.586957\n",
       "Thai              50.473684\n",
       "Spanish           50.333333\n",
       "Korean            46.384615\n",
       "Name: prep+del, dtype: float64"
      ]
     },
     "metadata": {},
     "output_type": "display_data"
    }
   ],
   "source": [
    "avg_duration_cuisine = nyc_imp.groupby(\"cuisine_type\")[\"prep+del\"].mean().sort_values(ascending=False)\n",
    "display(avg_duration_cuisine)"
   ]
  },
  {
   "cell_type": "code",
   "execution_count": 22,
   "id": "444584c8",
   "metadata": {},
   "outputs": [
    {
     "data": {
      "text/plain": [
       "cuisine_type\n",
       "Spanish     4.588784\n",
       "Thai        4.496965\n",
       "Indian      4.478320\n",
       "Mexican     4.389387\n",
       "Japanese    4.361307\n",
       "Italian     4.353602\n",
       "Chinese     4.340592\n",
       "French      4.319660\n",
       "Southern    4.316290\n",
       "American    4.315676\n",
       "Name: rating_imp, dtype: float64"
      ]
     },
     "metadata": {},
     "output_type": "display_data"
    }
   ],
   "source": [
    "#top 10 restaurants and their ratings\n",
    "best_cuisine = nyc_imp.groupby(\"cuisine_type\")[\"rating_imp\"].mean().sort_values(ascending=False)\n",
    "display(best_cuisine.head(10))"
   ]
  },
  {
   "cell_type": "code",
   "execution_count": 23,
   "id": "a7cd569a",
   "metadata": {},
   "outputs": [
    {
     "data": {
      "text/html": [
       "<div>\n",
       "<style scoped>\n",
       "    .dataframe tbody tr th:only-of-type {\n",
       "        vertical-align: middle;\n",
       "    }\n",
       "\n",
       "    .dataframe tbody tr th {\n",
       "        vertical-align: top;\n",
       "    }\n",
       "\n",
       "    .dataframe thead th {\n",
       "        text-align: right;\n",
       "    }\n",
       "</style>\n",
       "<table border=\"1\" class=\"dataframe\">\n",
       "  <thead>\n",
       "    <tr style=\"text-align: right;\">\n",
       "      <th></th>\n",
       "      <th>cost_of_the_order</th>\n",
       "      <th>food_preparation_time</th>\n",
       "      <th>delivery_time</th>\n",
       "      <th>rating_imp</th>\n",
       "      <th>prep+del</th>\n",
       "    </tr>\n",
       "  </thead>\n",
       "  <tbody>\n",
       "    <tr>\n",
       "      <th>cost_of_the_order</th>\n",
       "      <td>1.000000</td>\n",
       "      <td>0.041527</td>\n",
       "      <td>-0.029949</td>\n",
       "      <td>0.026901</td>\n",
       "      <td>0.006358</td>\n",
       "    </tr>\n",
       "    <tr>\n",
       "      <th>food_preparation_time</th>\n",
       "      <td>0.041527</td>\n",
       "      <td>1.000000</td>\n",
       "      <td>0.011094</td>\n",
       "      <td>-0.004805</td>\n",
       "      <td>0.685970</td>\n",
       "    </tr>\n",
       "    <tr>\n",
       "      <th>delivery_time</th>\n",
       "      <td>-0.029949</td>\n",
       "      <td>0.011094</td>\n",
       "      <td>1.000000</td>\n",
       "      <td>-0.007606</td>\n",
       "      <td>0.735195</td>\n",
       "    </tr>\n",
       "    <tr>\n",
       "      <th>rating_imp</th>\n",
       "      <td>0.026901</td>\n",
       "      <td>-0.004805</td>\n",
       "      <td>-0.007606</td>\n",
       "      <td>1.000000</td>\n",
       "      <td>-0.008792</td>\n",
       "    </tr>\n",
       "    <tr>\n",
       "      <th>prep+del</th>\n",
       "      <td>0.006358</td>\n",
       "      <td>0.685970</td>\n",
       "      <td>0.735195</td>\n",
       "      <td>-0.008792</td>\n",
       "      <td>1.000000</td>\n",
       "    </tr>\n",
       "  </tbody>\n",
       "</table>\n",
       "</div>"
      ],
      "text/plain": [
       "                       cost_of_the_order  food_preparation_time  \\\n",
       "cost_of_the_order               1.000000               0.041527   \n",
       "food_preparation_time           0.041527               1.000000   \n",
       "delivery_time                  -0.029949               0.011094   \n",
       "rating_imp                      0.026901              -0.004805   \n",
       "prep+del                        0.006358               0.685970   \n",
       "\n",
       "                       delivery_time  rating_imp  prep+del  \n",
       "cost_of_the_order          -0.029949    0.026901  0.006358  \n",
       "food_preparation_time       0.011094   -0.004805  0.685970  \n",
       "delivery_time               1.000000   -0.007606  0.735195  \n",
       "rating_imp                 -0.007606    1.000000 -0.008792  \n",
       "prep+del                    0.735195   -0.008792  1.000000  "
      ]
     },
     "execution_count": 23,
     "metadata": {},
     "output_type": "execute_result"
    }
   ],
   "source": [
    "nyc_imp.loc[:,~nyc_imp.columns.isin(['order_id','customer_id'])].corr()"
   ]
  }
 ],
 "metadata": {
  "kernelspec": {
   "display_name": "Python 3 (ipykernel)",
   "language": "python",
   "name": "python3"
  },
  "language_info": {
   "codemirror_mode": {
    "name": "ipython",
    "version": 3
   },
   "file_extension": ".py",
   "mimetype": "text/x-python",
   "name": "python",
   "nbconvert_exporter": "python",
   "pygments_lexer": "ipython3",
   "version": "3.9.13"
  },
  "toc-autonumbering": true,
  "toc-showcode": false,
  "toc-showmarkdowntxt": true
 },
 "nbformat": 4,
 "nbformat_minor": 5
}
